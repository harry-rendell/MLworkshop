{
  "cells": [
    {
      "cell_type": "markdown",
      "metadata": {
        "id": "view-in-github",
        "colab_type": "text"
      },
      "source": [
        "<a href=\"https://colab.research.google.com/github/harry-rendell/MLworkshop/blob/main/workshop_1.ipynb\" target=\"_parent\"><img src=\"https://colab.research.google.com/assets/colab-badge.svg\" alt=\"Open In Colab\"/></a>"
      ]
    },
    {
      "cell_type": "markdown",
      "id": "36a33d0c",
      "metadata": {
        "id": "36a33d0c"
      },
      "source": [
        "# Set-up: Run the following cell to clone the repository to your Colab filespace."
      ]
    },
    {
      "cell_type": "code",
      "execution_count": null,
      "id": "25b61266",
      "metadata": {
        "colab": {
          "base_uri": "https://localhost:8080/"
        },
        "id": "25b61266",
        "outputId": "f1be5c41-0aa6-45b0-affd-34d1478fa90e"
      },
      "outputs": [
        {
          "name": "stdout",
          "output_type": "stream",
          "text": [
            "fatal: destination path 'MLworkshop' already exists and is not an empty directory.\n"
          ]
        }
      ],
      "source": [
        "!git clone https://github.com/harry-rendell/MLworkshop.git\n",
        "import sys\n",
        "sys.path.append('./MLworkshop')"
      ]
    },
    {
      "cell_type": "markdown",
      "id": "9619b3e4",
      "metadata": {
        "id": "9619b3e4"
      },
      "source": [
        "# Introduction\n",
        "---\n",
        "We are going to build and train a simple neural network to classify the MNIST dataset. This dataset contains 1,796 grayscale images of handwritten digits from 0 to 9. Although this is an easy task for a human, it's not so easy for a computer. Since every image in the database is unique, we need a model which can adapt to different handwriting styles and classify them accurately. This is where machine learning comes in!"
      ]
    },
    {
      "cell_type": "markdown",
      "id": "8172f4a8",
      "metadata": {
        "id": "8172f4a8"
      },
      "source": [
        "## Tips!\n",
        "* Pass your cursor over a function to see what it does."
      ]
    },
    {
      "cell_type": "code",
      "execution_count": null,
      "id": "bba41585",
      "metadata": {
        "id": "bba41585"
      },
      "outputs": [],
      "source": [
        "# Standard imports\n",
        "import numpy as np\n",
        "import matplotlib.pyplot as plt\n",
        "# Keras imports\n",
        "from tensorflow.python.keras.utils.vis_utils import plot_model\n",
        "from tensorflow.python.keras.models import Model\n",
        "from tensorflow.python.keras.layers import Input, Dense, Flatten, Reshape, Dropout\n",
        "from tensorflow.keras.regularizers import l1_l2\n",
        "# Custom imports\n",
        "from funcs.plotting import plot_classifications, plot_training, plot_data"
      ]
    },
    {
      "cell_type": "code",
      "execution_count": null,
      "id": "bc25c5d3",
      "metadata": {
        "id": "bc25c5d3"
      },
      "outputs": [],
      "source": [
        "from sklearn import datasets\n",
        "digits = datasets.load_digits()\n",
        "from sklearn.model_selection import train_test_split"
      ]
    },
    {
      "cell_type": "code",
      "execution_count": null,
      "id": "9c22dc5f",
      "metadata": {
        "id": "9c22dc5f"
      },
      "outputs": [],
      "source": [
        "x_train, x_test, y_train, y_test = train_test_split(digits.images, digits.target, test_size=0.5, shuffle=True)\n",
        "x_train = x_train/x_train.max() # Normalise data so pixel values are between 0 and 1\n",
        "input_shape  = (8,8)\n",
        "n_classes = 10 # we have 10 different classes, ie 10 integers from 0 to 9"
      ]
    },
    {
      "cell_type": "markdown",
      "id": "4b081211",
      "metadata": {
        "id": "4b081211"
      },
      "source": [
        "# Plot the data\n",
        "---\n",
        "### Let's see what we're working with here."
      ]
    },
    {
      "cell_type": "code",
      "execution_count": null,
      "id": "c87b72b2",
      "metadata": {
        "colab": {
          "base_uri": "https://localhost:8080/",
          "height": 591
        },
        "id": "c87b72b2",
        "outputId": "f58d33f3-1405-40de-a015-4f1d1e292540"
      },
      "outputs": [
        {
          "data": {
            "image/png": "[encoded data removed]",
            "text/plain": [
              "<Figure size 720x720 with 36 Axes>"
            ]
          },
          "metadata": {
            "needs_background": "light"
          },
          "output_type": "display_data"
        }
      ],
      "source": [
        "plot_data(x_train, y_train)"
      ]
    },
    {
      "cell_type": "markdown",
      "id": "1a6b88fe",
      "metadata": {
        "id": "1a6b88fe"
      },
      "source": [
        "# Making your model\n",
        "---\n",
        "### This is the basic structure of constructing a dense neural network using Keras\n",
        "> ```\n",
        "> Line 1: i = Input(shape)\n",
        "> Line 2: x = Flatten()(i)\n",
        "> Line 3: x = Dense(n_nodes, activation)(x)\n",
        "> Line 4: x = Dense(n_nodes, activation)(x)\n",
        "> ...\n",
        "> Line 5: o = Dense(n_classes, activation)(x)\n",
        ">\n",
        "> Line 6: mymodel = Model(i, o, name)\n",
        "> Line 7: mymodel.summary()\n",
        "\n",
        "* Line 1: We set the input of the model using the shape of our input. Since we are using 8x8 images in the training data, out input shape is (8,8). You can use the ```input_shape``` parameter defined earlier.\n",
        "* Line 2: This step flattens the 2D input with shape (8,8) into a 1D array with shape (64,), since Dense networks require a 1D input. Note that for every layer we need to pass the previous layer to the current one. Here we do this by putting (i) at the end which passes the input to Flatten().\n",
        "* Line 3: Here we create the first layer. We can choose how many nodes we want in this layer (more nodes = able to model complex data better, but takes longer to train). We also need to set the activation, a sensible choice would be activation='relu'.\n",
        "* Line 4: We can add more layers like this, provided we pass the previous layer to the new layer by putting (x) at the end as before.\n",
        "* Line 5: We define the final ouput layer. The output shape needs to match the shape of the label data (y_train), ie 10. Also, we need to use an activation which gives a probability for how likely the given input is a particular number, a sensible choice would be activation='softmax'.\n",
        "* Line 6: We construct the model using the ```Model()``` function. We pass the input and output. You can also name the model anything you like, e.g. name = 'My first model!'\n",
        "* Line 7: Prints a summary of our model"
      ]
    },
    {
      "cell_type": "code",
      "execution_count": null,
      "id": "14996766",
      "metadata": {
        "id": "14996766"
      },
      "outputs": [],
      "source": [
        "### Use the template above to make your model here\n"
      ]
    },
    {
      "cell_type": "markdown",
      "id": "bf52b923",
      "metadata": {
        "id": "bf52b923"
      },
      "source": [
        "# Training your model\n",
        "---\n",
        "### Now you have defined your model, use the template below to compile and train it.\n",
        "> ```\n",
        "> Line 8: mymodel.compile(...)\n",
        "> Line 9: mymodel_history = mymodel.fit(...)\n",
        "\n",
        "\n",
        "* Line 8: Here we compile the model using ```.compile()```. We need to pass the following: \n",
        "    * optimizer='adam'\n",
        "    * loss='sparse_categorical_crossentropy'\n",
        "    * metrics='accuracy'\n",
        "\n",
        "\n",
        "* Line 9: Train the model using ```.fit()```. We need to pass a few things here:\n",
        "    * x - training images\n",
        "    * y - training labels\n",
        "    * epochs - how long to train for. ~100 is a good start.\n",
        "    * batch_size - how many images to group up for each training step. ~32 is sensible.\n",
        "    * validation_split - what fraction of the training data gets used as test data for monitoring the accuracy during training. A sensible choice is between 0.1 and 0.3\n",
        "    * verbose - Set this to True if you wish to see the progress of training. Otherwise set to False."
      ]
    },
    {
      "cell_type": "code",
      "execution_count": null,
      "id": "8d7318f6",
      "metadata": {
        "id": "8d7318f6"
      },
      "outputs": [],
      "source": [
        "### Use the template above to compile and fit your model here\n"
      ]
    },
    {
      "cell_type": "markdown",
      "id": "313f208b",
      "metadata": {
        "id": "313f208b"
      },
      "source": [
        "# Plot progress of training\n",
        "---"
      ]
    },
    {
      "cell_type": "markdown",
      "id": "85e34fb6",
      "metadata": {
        "id": "85e34fb6"
      },
      "source": [
        "### Now you have defined your model, use the template below to compile and train it.\n",
        "> ```\n",
        "> Line 10: plot_training(...)\n",
        "> Line 11: mymodel.evaluate(...)\n",
        "\n",
        "\n",
        "* Line 10: Pass the output from Line 9 to my custom function plot_training() to see how the training progressed over time.\n",
        "\n",
        "* Line 11: Evaluate the model on the test data to find the final accuracy. Note that this function returns two numbers, loss and accuracy, but we are only interested in the accuracy at this point."
      ]
    },
    {
      "cell_type": "code",
      "execution_count": null,
      "id": "0ac18203",
      "metadata": {
        "id": "0ac18203"
      },
      "outputs": [],
      "source": [
        "### Use the template above to plot the training of your model, and evaluate the final test accuracy.\n"
      ]
    },
    {
      "cell_type": "markdown",
      "id": "2f6af234",
      "metadata": {
        "id": "2f6af234"
      },
      "source": [
        "# Plot classifications\n",
        "---\n",
        "### Let's plot some of the test data along with the predicted classifcations from the network.\n",
        "> ```\n",
        "> Line 11: predicted = mymodel.predict(x_test).argmax(axis=-1)\n",
        "> Line 12: plot_classifications(x_test, y_test, predicted)\n",
        "\n",
        "\n",
        "* Line 11: Ask the network to predict the labels of the test data. Then choose the one with the highest probability (argmax)\n",
        "\n",
        "* Line 12: Use my custom function to plot a grid of test data with their true and predicted labels. Note, misclassifications will appear in red."
      ]
    },
    {
      "cell_type": "code",
      "execution_count": null,
      "id": "33c164d9",
      "metadata": {
        "id": "33c164d9"
      },
      "outputs": [],
      "source": [
        "### Use the template above to predict and plot the classifications of the test data\n"
      ]
    },
    {
      "cell_type": "markdown",
      "id": "b87839e4",
      "metadata": {
        "id": "b87839e4"
      },
      "source": [
        "# What happens if we train for too long?\n",
        "---\n",
        "### Recompile your model and train your network for longer, what happens to the test accuracy?"
      ]
    },
    {
      "cell_type": "code",
      "execution_count": null,
      "id": "4b30204a",
      "metadata": {
        "id": "4b30204a"
      },
      "outputs": [],
      "source": [
        "### Copy your code corresponding to lines 1-11, then increase epochs (max 500 otherwise it will take too long)\n"
      ]
    },
    {
      "cell_type": "markdown",
      "id": "bd500f9e",
      "metadata": {
        "id": "bd500f9e"
      },
      "source": [
        "# Improving test accuracy\n",
        "---\n",
        "### Some techniques we can use to improve test accuracy:\n",
        "* Dropout - During training, set a random fraction of weights (weights are simply the connections between nodes, think of them as neurons in a brain) to zero. E.g. Dropout(0.1) will randomly set 10% of the weights to zero for each training step. This benefits the network as it encourages it to behave like a combination of smaller networks, each of which can continue to work even when some fail. To use dropout, insert the  ```Dropout()``` function like you would a Dense layer. Try sandwiching it between two Dense layers.\n",
        "* L1/L2 Regularisation - Gradually sets unused weights to zero. You can use the ```l1_l2()``` function and pass it to a Dense layer using ```Dense(..., bias_regularizer=l1_l2() )```"
      ]
    },
    {
      "cell_type": "code",
      "execution_count": null,
      "id": "b2eb641f",
      "metadata": {
        "id": "b2eb641f"
      },
      "outputs": [],
      "source": [
        "### Copy your code corresponding to lines 1-11, then add Dropout and/or L1/L2 Regularisation\n"
      ]
    },
    {
      "cell_type": "markdown",
      "id": "aae4ef56",
      "metadata": {
        "id": "aae4ef56"
      },
      "source": [
        "# Challenge!\n",
        "### I was able to make a network with a test accuracy 98.1%. Can you do better than this using Dropout and Regularisation?"
      ]
    },
    {
      "cell_type": "code",
      "execution_count": null,
      "id": "729e9954",
      "metadata": {
        "id": "729e9954"
      },
      "outputs": [],
      "source": [
        "### Make your best model here!\n"
      ]
    }
  ],
  "metadata": {
    "colab": {
      "name": "incomplete_simple_dense_network.ipynb",
      "provenance": [],
      "include_colab_link": true
    },
    "kernelspec": {
      "display_name": "Python 3",
      "language": "python",
      "name": "python3"
    },
    "language_info": {
      "codemirror_mode": {
        "name": "ipython",
        "version": 3
      },
      "file_extension": ".py",
      "mimetype": "text/x-python",
      "name": "python",
      "nbconvert_exporter": "python",
      "pygments_lexer": "ipython3",
      "version": "3.6.10"
    }
  },
  "nbformat": 4,
  "nbformat_minor": 5
}