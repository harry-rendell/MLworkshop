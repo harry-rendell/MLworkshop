{
 "cells": [
  {
   "cell_type": "markdown",
   "id": "5db1f1da",
   "metadata": {
    "colab_type": "text",
    "id": "view-in-github"
   },
   "source": [
    "<a href=\"https://colab.research.google.com/github/harry-rendell/MLworkshop/blob/main/notebooks/workshop_1.ipynb\" target=\"_parent\"><img src=\"https://colab.research.google.com/assets/colab-badge.svg\" alt=\"Open In Colab\"/></a>"
   ]
  },
  {
   "cell_type": "markdown",
   "id": "RtNyiQITP3ft",
   "metadata": {
    "id": "RtNyiQITP3ft"
   },
   "source": [
    "## Set-up: Run the following cell to clone the repository to your Colab filespace.\n",
    "### Note: skip this cell if you are running locally!"
   ]
  },
  {
   "cell_type": "code",
   "execution_count": null,
   "id": "4710f971",
   "metadata": {
    "colab": {
     "base_uri": "https://localhost:8080/"
    },
    "id": "4710f971",
    "outputId": "7f6377ec-885c-4802-87dc-2579dece7c5f"
   },
   "outputs": [],
   "source": [
    "!git clone https://github.com/harry-rendell/MLworkshop.git\n",
    "import sys\n",
    "sys.path.append('./MLworkshop')"
   ]
  },
  {
   "cell_type": "markdown",
   "id": "c5d23d90",
   "metadata": {
    "id": "c5d23d90"
   },
   "source": [
    "## Tips!\n",
    "* In Google Colab you can pass your cursor over a function to see what it does.\n",
    "* If instead you are running locally, you can use Shift+Tab while your cursor is in a function to see what it does."
   ]
  },
  {
   "cell_type": "markdown",
   "id": "172362e4",
   "metadata": {
    "id": "172362e4"
   },
   "source": [
    "# Introduction\n",
    "---\n",
    "We are going to build and train a simple neural network to classify the MNIST dataset. This dataset contains 1,796 grayscale images of handwritten digits from 0 to 9. The images are an 8x8 grid of pixel values. Although this is an easy task for a human, it's not so easy for a computer. Since every image in the database is unique, we need a model which can adapt to different handwriting styles and classify them accurately. This is where machine learning comes in!"
   ]
  },
  {
   "cell_type": "code",
   "execution_count": null,
   "id": "5f79b39b",
   "metadata": {
    "id": "5f79b39b"
   },
   "outputs": [],
   "source": [
    "# Standard imports\n",
    "import numpy as np\n",
    "import matplotlib.pyplot as plt\n",
    "# Keras imports\n",
    "from tensorflow.python.keras.utils.vis_utils import plot_model\n",
    "from tensorflow.python.keras.models import Model\n",
    "from tensorflow.python.keras.layers import Input, Dense, Flatten, Reshape, Dropout\n",
    "from tensorflow.keras.regularizers import l1_l2\n",
    "# Custom imports\n",
    "from funcs.plotting import plot_classifications, plot_training, plot_data"
   ]
  },
  {
   "cell_type": "markdown",
   "id": "ede37f08",
   "metadata": {
    "id": "ede37f08"
   },
   "source": [
    "# Load in data\n",
    "---"
   ]
  },
  {
   "cell_type": "code",
   "execution_count": null,
   "id": "b248a888",
   "metadata": {
    "id": "b248a888"
   },
   "outputs": [],
   "source": [
    "from sklearn import datasets\n",
    "digits = datasets.load_digits()\n",
    "from sklearn.model_selection import train_test_split\n",
    "\n",
    "x_train, x_test, y_train, y_test = train_test_split(digits.images, digits.target, test_size=0.6, shuffle=True)\n",
    "x_train = x_train/x_train.max() # Normalise data so pixel values are between 0 and 1\n",
    "x_test  = x_test/x_train.max()\n",
    "input_shape  = (8,8)\n",
    "n_classes = 10 # we have 10 different classes, ie 10 integers from 0 to 9"
   ]
  },
  {
   "cell_type": "markdown",
   "id": "57b4fe35",
   "metadata": {
    "id": "57b4fe35"
   },
   "source": [
    "# Plot the data\n",
    "---\n",
    "### Let's see what we're working with here."
   ]
  },
  {
   "cell_type": "code",
   "execution_count": null,
   "id": "4c477e5c",
   "metadata": {
    "colab": {
     "base_uri": "https://localhost:8080/",
     "height": 591
    },
    "id": "4c477e5c",
    "outputId": "f58d33f3-1405-40de-a015-4f1d1e292540"
   },
   "outputs": [],
   "source": [
    "plot_data(x_train, y_train)"
   ]
  },
  {
   "cell_type": "markdown",
   "id": "fc3a40b5",
   "metadata": {
    "id": "fc3a40b5"
   },
   "source": [
    "# Making your model\n",
    "---\n",
    "### This is the basic structure of constructing a dense neural network using Keras\n",
    "> ```\n",
    "> Line 1: i = Input(shape)\n",
    "> Line 2: x = Flatten()(i)\n",
    "> Line 3: x = Dense(n_nodes, activation='relu')(x)\n",
    "> Line 4: x = Dense(n_nodes, activation='relu')(x)\n",
    "> ...\n",
    "> Line 5: o = Dense(n_classes, activation='softmax')(x)\n",
    ">\n",
    "> Line 6: mymodel = Model(i, o, name='My first model!')\n",
    "> Line 7: mymodel.summary()\n",
    "\n",
    "* Line 1: We set the input of the model using the shape of our input. Since we are using 8x8 images in the training data, our input shape is (8,8). You can use the ```input_shape``` parameter defined earlier.\n",
    "* Line 2: This step flattens the 2D input with shape (8,8) into a 1D array with shape (64,), since Dense networks require a 1D input. Note that for every layer we need to pass the previous layer to the current one. Here we do this by putting (i) at the end which passes the input to Flatten().\n",
    "* Line 3: Here we create the first layer. We can choose how many nodes we want in this layer (more nodes = able to model complex data better, but takes longer to train). We also need to set the activation, a sensible choice would be activation='relu'.\n",
    "* Line 4: We can add more layers like this, provided we pass the previous layer to the new layer by putting (x) at the end as before.\n",
    "* Line 5: We define the final ouput layer. The output shape needs to match the shape of the label data (y_train), ie 10. These 10 numbers will correspond to the probability that the input is each of the numbers 0-9. We must use the 'softmax' activation function here as it ensures the probabilities sum to 1.\n",
    "* Line 6: We construct the model using the ```Model()``` function. We pass the input and output. You can also name the model anything you like, e.g. name = 'My first model!'\n",
    "* Line 7: Prints a summary of our model"
   ]
  },
  {
   "cell_type": "code",
   "execution_count": null,
   "id": "312262bc",
   "metadata": {
    "id": "312262bc"
   },
   "outputs": [],
   "source": [
    "### Use the template above to make your model here\n"
   ]
  },
  {
   "cell_type": "markdown",
   "id": "d9fef4da",
   "metadata": {
    "id": "d9fef4da"
   },
   "source": [
    "# Training your model\n",
    "---\n",
    "### Now you have defined your model, use the template below to compile and train it.\n",
    "> ```\n",
    "> Line 8: mymodel.compile(...)\n",
    "> Line 9: mymodel_history = mymodel.fit(...)\n",
    "\n",
    "\n",
    "* Line 8: Here we compile the model using ```.compile()```. We need to pass the following: \n",
    "    * optimizer='adam' - a particularly good adaptive optimizer. See https://arxiv.org/abs/1412.6980 if you are interested\n",
    "    * loss='sparse_categorical_crossentropy' - we need to use this loss function for classification tasks\n",
    "    * metrics='accuracy' - ask the model to calculate the accuracy during training\n",
    "\n",
    "\n",
    "* Line 9: Train the model using ```.fit()```. We need to pass a few things here:\n",
    "    * x - training images\n",
    "    * y - training labels\n",
    "    * epochs - how long to train for. ~100 is a good start.\n",
    "    * batch_size - how many images to group up for each training step. ~32 is sensible.\n",
    "    * validation_data - the test images and labels, ie (x_test, y_test).\n",
    "    * verbose - Set this to True if you wish to see the progress of training. Otherwise set to False.\n",
    "    \n",
    "Note, you will need to rerun lines 1-9 if you wish to start training from scratch, as if you only run lines 8 & 9 it will continue where it left off."
   ]
  },
  {
   "cell_type": "code",
   "execution_count": null,
   "id": "f8f6d644",
   "metadata": {
    "id": "f8f6d644"
   },
   "outputs": [],
   "source": [
    "### Use the template above to compile and fit your model here\n"
   ]
  },
  {
   "cell_type": "markdown",
   "id": "ba4846c3",
   "metadata": {
    "id": "ba4846c3"
   },
   "source": [
    "# Plot progress of training\n",
    "---"
   ]
  },
  {
   "cell_type": "markdown",
   "id": "a6546063",
   "metadata": {
    "id": "a6546063"
   },
   "source": [
    "### Now you have defined your model, use the template below to compile and train it.\n",
    "> ```\n",
    "> Line 10: plot_training(...)\n",
    "> Line 11: mymodel.evaluate(...)\n",
    "\n",
    "\n",
    "* Line 10: Pass the output from Line 9 to my custom function plot_training() to see how the training progressed over time.\n",
    "\n",
    "* Line 11: Evaluate the model on the test data to find the final accuracy. Note that this function returns two numbers, loss and accuracy, but we are only interested in the accuracy at this point."
   ]
  },
  {
   "cell_type": "code",
   "execution_count": null,
   "id": "eb187295",
   "metadata": {
    "id": "eb187295"
   },
   "outputs": [],
   "source": [
    "### Use the template above to plot the training of your model, and evaluate the final test accuracy.\n"
   ]
  },
  {
   "cell_type": "markdown",
   "id": "7985fd9a",
   "metadata": {
    "id": "7985fd9a"
   },
   "source": [
    "# Plot classifications\n",
    "---\n",
    "### Let's plot some of the test data along with the predicted classifcations from the network.\n",
    "> ```\n",
    "> Line 12: predicted = mymodel.predict(x_test).argmax(axis=-1)\n",
    "> Line 13: plot_classifications(x_test, y_test, predicted)\n",
    "\n",
    "\n",
    "* Line 12: Ask the network to predict the labels of the test data. Then choose the one with the highest probability (argmax)\n",
    "\n",
    "* Line 13: Use my custom function to plot a grid of test data with their true and predicted labels. Note, misclassifications will appear in red."
   ]
  },
  {
   "cell_type": "code",
   "execution_count": null,
   "id": "b7f6346e",
   "metadata": {
    "id": "b7f6346e"
   },
   "outputs": [],
   "source": [
    "### Use the template above to predict and plot the classifications of the test data\n"
   ]
  },
  {
   "cell_type": "markdown",
   "id": "d1526e83",
   "metadata": {
    "id": "d1526e83"
   },
   "source": [
    "# What happens if we train for too long?\n",
    "---\n",
    "### Recompile your model and train your network for longer, what happens to the test accuracy?"
   ]
  },
  {
   "cell_type": "code",
   "execution_count": null,
   "id": "1318ace0",
   "metadata": {
    "id": "1318ace0"
   },
   "outputs": [],
   "source": [
    "### Copy your code corresponding to lines 1-11, then increase epochs (max 500 otherwise it will take too long)\n"
   ]
  },
  {
   "cell_type": "markdown",
   "id": "c0cc066e",
   "metadata": {
    "id": "c0cc066e"
   },
   "source": [
    "# Improving test accuracy\n",
    "---\n",
    "### Some techniques we can use to improve test accuracy:\n",
    "* Dropout - During training, a random fraction of nodes are deactivated for each training step. E.g. inserting Dropout(0.1) after a Dense() layer will randomly deactivate 10% of the nodes of that Dense layer, for each training step. This benefits the network as it encourages it to behave like a combination of smaller networks, each of which can continue to work even when some fail to classify. To use dropout, insert the  ```Dropout()``` function after the Dense() layer that you would like to apply the dropout to.\n",
    "* L1/L2 Regularisation - Gradually sets unused weights to zero. You can use the ```l1_l2()``` function and pass it to a Dense layer using ```Dense(..., bias_regularizer=l1_l2() )```"
   ]
  },
  {
   "cell_type": "code",
   "execution_count": null,
   "id": "ca56d251",
   "metadata": {
    "id": "ca56d251"
   },
   "outputs": [],
   "source": [
    "### Copy your code corresponding to lines 1-11, then add Dropout and/or L1/L2 Regularisation \n"
   ]
  },
  {
   "cell_type": "markdown",
   "id": "8e3ecf6f",
   "metadata": {
    "id": "8e3ecf6f"
   },
   "source": [
    "# Challenge!\n",
    "### I was able to make a network with a test accuracy 98.1%. Can you do better than this using Dropout and Regularisation?"
   ]
  },
  {
   "cell_type": "code",
   "execution_count": null,
   "id": "66bb6260",
   "metadata": {
    "id": "66bb6260"
   },
   "outputs": [],
   "source": [
    "### Make your best model here!\n"
   ]
  }
 ],
 "metadata": {
  "colab": {
   "include_colab_link": true,
   "name": "workshop_1.ipynb",
   "provenance": []
  },
  "kernelspec": {
   "display_name": "Python 3 (ipykernel)",
   "language": "python",
   "name": "python3"
  },
  "language_info": {
   "codemirror_mode": {
    "name": "ipython",
    "version": 3
   },
   "file_extension": ".py",
   "mimetype": "text/x-python",
   "name": "python",
   "nbconvert_exporter": "python",
   "pygments_lexer": "ipython3",
   "version": "3.10.9"
  }
 },
 "nbformat": 4,
 "nbformat_minor": 5
}
