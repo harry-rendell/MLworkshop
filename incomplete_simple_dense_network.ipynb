{
 "cells": [
  {
   "cell_type": "markdown",
   "id": "c8b3c4ac",
   "metadata": {},
   "source": [
    "# Introduction\n",
    "---\n",
    "We are going to build and train a simple neural network to classify the MNIST dataset. This dataset contains 1,796 grayscale images of handwritten digits from 0 to 9. Although this is an easy task for a human, it's not so easy for a computer. Since every image in the database is unique, we need a model which can adapt to different handwriting styles and classify them accurately. This is where machine learning comes in!"
   ]
  },
  {
   "cell_type": "markdown",
   "id": "a355a31f",
   "metadata": {},
   "source": [
    "## Tips!\n",
    "* Shift+Tab while cursor is in a function will give you information about the function"
   ]
  },
  {
   "cell_type": "code",
   "execution_count": 3,
   "id": "dcebaeb1",
   "metadata": {},
   "outputs": [],
   "source": [
    "# Standard imports\n",
    "import numpy as np\n",
    "import matplotlib.pyplot as plt\n",
    "# Keras import(s)\n",
    "from tensorflow.python.keras.utils.vis_utils import plot_model\n",
    "from tensorflow.python.keras.models import Model\n",
    "from tensorflow.python.keras.layers import Input, Dense, Flatten, Reshape, Dropout\n",
    "from tensorflow.keras.regularizers import l1_l2\n",
    "# Custom imports\n",
    "from funcs.plotting import plot_classifications, plot_training, plot_data"
   ]
  },
  {
   "cell_type": "code",
   "execution_count": 4,
   "id": "01307002",
   "metadata": {},
   "outputs": [],
   "source": [
    "from sklearn import datasets\n",
    "digits = datasets.load_digits()\n",
    "from sklearn.model_selection import train_test_split"
   ]
  },
  {
   "cell_type": "code",
   "execution_count": 10,
   "id": "df859e47",
   "metadata": {},
   "outputs": [],
   "source": [
    "x_train, x_test, y_train, y_test = train_test_split(digits.images, digits.target, test_size=0.5, shuffle=True)"
   ]
  },
  {
   "cell_type": "code",
   "execution_count": 6,
   "id": "95b9152b",
   "metadata": {},
   "outputs": [],
   "source": [
    "x_train = x_train/x_train.max() # Normalise data so pixel values are between 0 and 1\n",
    "\n",
    "x_train = x_train[:,:,:,np.newaxis] # Add a new axis to the end. This axis is used to specifiy the RGB channel, however, we are working with greyscale images here.\n",
    "x_test  = x_test [:,:,:,np.newaxis]\n",
    "input_shape  = (8,8)\n",
    "output_shape = 10 # we have 10 different classes, ie 10 integers from 0 to 9"
   ]
  },
  {
   "cell_type": "markdown",
   "id": "57a4bd6a",
   "metadata": {},
   "source": [
    "# Plot the data\n",
    "---\n",
    "### Let's see what we're working with here."
   ]
  },
  {
   "cell_type": "code",
   "execution_count": 7,
   "id": "f149d95f",
   "metadata": {},
   "outputs": [
    {
     "data": {
      "image/png": "[encoded data removed]",
      "text/plain": [
       "<Figure size 720x720 with 36 Axes>"
      ]
     },
     "metadata": {
      "needs_background": "light"
     },
     "output_type": "display_data"
    }
   ],
   "source": [
    "plot_data(x_train, y_train)"
   ]
  },
  {
   "cell_type": "markdown",
   "id": "2e27e13a",
   "metadata": {},
   "source": [
    "# Making your model\n",
    "---\n",
    "### This is the basic structure of constructing a dense neural network using Keras\n",
    "> ```\n",
    "> Line 1: i = Input(shape)\n",
    "> Line 2: x = Flatten()(i)\n",
    "> Line 3: x = Dense(n_nodes, activation)(x)\n",
    "> Line 4: x = Dense(n_nodes, activation)(x)\n",
    "> ...\n",
    "> Line 5: o = Dense(n_nodes, activation)(x)\n",
    ">\n",
    "> Line 6: mymodel = Model(i, o, name)\n",
    "> Line 7: mymodel.summary()\n",
    "\n",
    "* Line 1: We set the input of the model using the shape of our input. Since we are using 8x8 images in the training data, out input shape is (8,8)\n",
    "* Line 2: This step flattens the 2D input with shape (8,8) into a 1D array with shape (64,), since Dense networks require a 1D input.\n",
    "* Line 3: Here we create the first layer. We can choose how many nodes we want in this layer (more nodes = able to model complex data better, but takes longer to train). We also need to set the activation, a sensible choice would be activation='relu'. Note that we need to pass the input by putting (i) at the end.\n",
    "* Line 4: We can add more layers like this, provided we pass the previous layer to the new layer by putting (x) at the end.\n",
    "* Line 5: We define the final ouput layer. The output shape needs to match the shape of the label data (y_train). Also, we need to use an activation which gives a probability for how likely the given input is a particular number, a sensible choice would be activation='softmax'.\n",
    "* Line 6: We construct the model using the ```Model()``` function. We pass the input and output. You can also name the model anything you like, e.g. name = 'My first model!'\n",
    "* Line 7: Prints a summary of our model"
   ]
  },
  {
   "cell_type": "code",
   "execution_count": null,
   "id": "69c82300",
   "metadata": {},
   "outputs": [],
   "source": [
    "### Use the structure above to make your model here\n"
   ]
  },
  {
   "cell_type": "markdown",
   "id": "271fe6ae",
   "metadata": {},
   "source": [
    "# Training your model\n",
    "---\n",
    "### Now you have defined your model, use the structure below to compile and train it.\n",
    "> ```\n",
    "> Line 8: mymodel.compile(...)\n",
    "> Line 9: mymodel_history = mymodel.fit(...)\n",
    "\n",
    "\n",
    "* Line 8: Here we compile the model using ```.compile()```. We need to pass the following: \n",
    "    * optimizer='adam'\n",
    "    * loss='sparse_categorical_crossentropy\n",
    "    * metrics='accuracy'\n",
    "\n",
    "\n",
    "* Line 9: Train the model using ```.fit()```. We need to pass a few things here:\n",
    "    * x - training images\n",
    "    * y - training labels\n",
    "    * epochs - how long to train for. ~100 is a good start.\n",
    "    * batch_size - how many images to group up for each training step. ~32 is sensible.\n",
    "    * validation_split - what fraction of the training data gets used as test data for monitoring the accuracy during training. A sensible choice is between 0.1 and 0.3\n",
    "    * verbose - Set this to True if you wish to see the progress of training. Otherwise set to False."
   ]
  },
  {
   "cell_type": "code",
   "execution_count": null,
   "id": "b141ad12",
   "metadata": {},
   "outputs": [],
   "source": [
    "### Use the structure above to compile and fit your model here\n"
   ]
  },
  {
   "cell_type": "markdown",
   "id": "9a0cb20f",
   "metadata": {},
   "source": [
    "# Plot progress of training\n",
    "---"
   ]
  },
  {
   "cell_type": "markdown",
   "id": "77b018fb",
   "metadata": {},
   "source": [
    "### Now you have defined your model, use the structure below to compile and train it.\n",
    "> ```\n",
    "> Line 10: plot_training(...)\n",
    "> Line 11: mymodel.evaluate(...)\n",
    "\n",
    "\n",
    "* Line 10: Pass the output from Line 8 to my custom function plot_training() to see how the training progressed over time.\n",
    "\n",
    "* Line 11: Evaluate the model on the test data to find the final accuracy. Note that this function returns two numbers, loss and accuracy, but we are only interested in the accuracy at this point."
   ]
  },
  {
   "cell_type": "code",
   "execution_count": null,
   "id": "f66dd776",
   "metadata": {},
   "outputs": [],
   "source": [
    "### Use the structure above to plot the training of your model, and evaluate the final test accuracy.\n"
   ]
  },
  {
   "cell_type": "markdown",
   "id": "dae8a1a0",
   "metadata": {},
   "source": [
    "# Playing with hyperparameters\n",
    "---\n",
    "Hyperparameters are parameters used to control the training process. These include number of epochs, batch size etc. Try increasing number of epochs and see what happens!"
   ]
  },
  {
   "cell_type": "code",
   "execution_count": null,
   "id": "cdce320f",
   "metadata": {},
   "outputs": [],
   "source": [
    "### Copy lines 1-11 above, then increase epochs (max 500 otherwise it will take too long)\n"
   ]
  },
  {
   "cell_type": "markdown",
   "id": "72f8294c",
   "metadata": {},
   "source": [
    "### Some techniques we can use to improve validation accuracy:\n",
    "* Dropout - During training, set a random fraction of weights to zero. E.g. Dropout(0.1) will randomly set 10% of the weights to zero for each training step. This benefits the network as it encourages it to behave like a combination of smaller networks, each of which can continue to work even when some fail. You can use the ```Dropout()``` function and insert it like you would a Dense layer.\n",
    "* L1/L2 Regularisation - Gradually sets unused weights to zero. You can use the ```l1_l2()``` function and pass it to a Dense layer using ```Dense(..., bias_regularizer=l1_l2() )```"
   ]
  },
  {
   "cell_type": "code",
   "execution_count": null,
   "id": "d36187da",
   "metadata": {},
   "outputs": [],
   "source": [
    "### Remake your model using lines 1-7 as a template, then compile, train and plot as before.\n"
   ]
  },
  {
   "cell_type": "markdown",
   "id": "9f29bc63",
   "metadata": {},
   "source": [
    "# Challenge!\n",
    "### I was able to make a network with a test accuracy 98.1%. Can you do better than this using Dropout and Regularisation?"
   ]
  },
  {
   "cell_type": "code",
   "execution_count": null,
   "id": "a07028d4",
   "metadata": {},
   "outputs": [],
   "source": [
    "### Make your best model here!\n"
   ]
  }
 ],
 "metadata": {
  "kernelspec": {
   "display_name": "Python 3",
   "language": "python",
   "name": "python3"
  },
  "language_info": {
   "codemirror_mode": {
    "name": "ipython",
    "version": 3
   },
   "file_extension": ".py",
   "mimetype": "text/x-python",
   "name": "python",
   "nbconvert_exporter": "python",
   "pygments_lexer": "ipython3",
   "version": "3.6.10"
  }
 },
 "nbformat": 4,
 "nbformat_minor": 5
}
